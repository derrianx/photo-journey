{
 "cells": [
  {
   "cell_type": "code",
   "execution_count": 6,
   "id": "4b25d135",
   "metadata": {},
   "outputs": [],
   "source": [
    "import pandas as pd\n",
    "import numpy as np"
   ]
  },
  {
   "cell_type": "code",
   "execution_count": 7,
   "id": "b3ee47cb",
   "metadata": {},
   "outputs": [],
   "source": [
    "df = pd.read_csv('out.csv')\n"
   ]
  },
  {
   "cell_type": "code",
   "execution_count": 8,
   "id": "24810dd3",
   "metadata": {},
   "outputs": [
    {
     "name": "stdout",
     "output_type": "stream",
     "text": [
      "\n",
      "DataFrame Shape : (95, 203)\n",
      "\n",
      "Number of rows : 95\n",
      "\n",
      "Number of columns : 203\n"
     ]
    }
   ],
   "source": [
    "#get dataframe shape\n",
    "shape = df.shape\n",
    "print('\\nDataFrame Shape :', shape)\n",
    "print('\\nNumber of rows :', shape[0])\n",
    "print('\\nNumber of columns :', shape[1])\n",
    "\n",
    "\n",
    "\n"
   ]
  },
  {
   "cell_type": "code",
   "execution_count": 9,
   "id": "9bbe30f2",
   "metadata": {},
   "outputs": [
    {
     "name": "stdout",
     "output_type": "stream",
     "text": [
      "First 5 rows is             SourceFile AFAreaMode AFAreaModeSetting  AFPointSelected  \\\n",
      "0  image/DSC00663.JPG      Multi              Wide              NaN   \n",
      "1  image/DSC00664.JPG      Multi              Wide              NaN   \n",
      "2  image/DSC00665.JPG      Multi              Wide              NaN   \n",
      "3  image/DSC00666.JPG      Multi              Wide              NaN   \n",
      "4  image/DSC00667.JPG      Multi              Wide              NaN   \n",
      "\n",
      "  AFPointsUsed AFTracking AmbientTemperature      Anti-Blur  Aperture  \\\n",
      "0       (none)        Off               29 C  On (Shooting)       3.5   \n",
      "1       (none)        Off               29 C  On (Shooting)       3.5   \n",
      "2       (none)        Off               29 C  On (Shooting)       3.5   \n",
      "3       (none)        Off               29 C  On (Shooting)       3.5   \n",
      "4       (none)        Off               29 C  On (Shooting)       3.5   \n",
      "\n",
      "  AutoPortraitFramed  ...                               VignettingCorrParams  \\\n",
      "0                 No  ...  0 64 256 640 1280 2112 3456 5504 8192 11392 15...   \n",
      "1                 No  ...  0 64 256 640 1280 2112 3456 5504 8192 11392 15...   \n",
      "2                 No  ...  0 64 256 640 1280 2112 3456 5504 8192 11392 15...   \n",
      "3                 No  ...  0 64 256 640 1280 2112 3456 5504 8192 11392 15...   \n",
      "4                 No  ...  0 64 256 640 1280 2176 3520 5568 8256 11456 15...   \n",
      "\n",
      "  WB_RGBLevels WBShiftAB_GM  WhiteBalance  WhiteBalanceFineTune  XResolution  \\\n",
      "0  634 256 486          0 0          Auto                     0          350   \n",
      "1  657 256 485          0 0          Auto                     0          350   \n",
      "2  626 256 485          0 0          Auto                     0          350   \n",
      "3  647 256 507          0 0          Auto                     0          350   \n",
      "4  590 256 523          0 0          Auto                     0          350   \n",
      "\n",
      "   YCbCrPositioning  YCbCrSubSampling YResolution      ZoneMatching  \n",
      "0          Co-sited  YCbCr4:2:2 (2 1)         350  ISO Setting Used  \n",
      "1          Co-sited  YCbCr4:2:2 (2 1)         350  ISO Setting Used  \n",
      "2          Co-sited  YCbCr4:2:2 (2 1)         350  ISO Setting Used  \n",
      "3          Co-sited  YCbCr4:2:2 (2 1)         350  ISO Setting Used  \n",
      "4          Co-sited  YCbCr4:2:2 (2 1)         350  ISO Setting Used  \n",
      "\n",
      "[5 rows x 203 columns]\n",
      "Last 5 rows is              SourceFile     AFAreaMode AFAreaModeSetting  AFPointSelected  \\\n",
      "90  image/DSC00755.JPG          Multi              Wide              NaN   \n",
      "91  image/DSC00756.JPG          Multi              Wide              NaN   \n",
      "92  image/DSC00757.JPG          Multi              Wide              NaN   \n",
      "93  image/DSC00758.JPG          Multi              Wide              NaN   \n",
      "94  image/DSC00759.JPG  Face Tracking              Wide              NaN   \n",
      "\n",
      "   AFPointsUsed     AFTracking AmbientTemperature      Anti-Blur  Aperture  \\\n",
      "90       (none)            Off               30 C  On (Shooting)       3.5   \n",
      "91       (none)            Off               30 C  On (Shooting)       3.5   \n",
      "92       (none)            Off               30 C  On (Shooting)       3.5   \n",
      "93       (none)            Off               30 C  On (Shooting)       3.5   \n",
      "94       (none)  Face tracking               30 C  On (Shooting)       4.0   \n",
      "\n",
      "   AutoPortraitFramed  ...                               VignettingCorrParams  \\\n",
      "90                 No  ...  0 64 256 640 1280 2112 3456 5504 8192 11392 15...   \n",
      "91                 No  ...  0 64 256 640 1280 2112 3456 5504 8192 11392 15...   \n",
      "92                 No  ...  0 64 256 640 1280 2112 3456 5504 8128 11264 14...   \n",
      "93                 No  ...  0 64 256 640 1280 2112 3456 5504 8128 11264 14...   \n",
      "94                 No  ...  0 64 256 576 1088 1664 2752 4672 7296 10560 14...   \n",
      "\n",
      "   WB_RGBLevels WBShiftAB_GM  WhiteBalance  WhiteBalanceFineTune  XResolution  \\\n",
      "90  457 256 674          0 0          Auto                     0          350   \n",
      "91  459 256 674          0 0          Auto                     0          350   \n",
      "92  458 256 707          0 0          Auto                     0          350   \n",
      "93  458 256 709          0 0          Auto                     0          350   \n",
      "94  472 256 670          0 0          Auto                     0          350   \n",
      "\n",
      "    YCbCrPositioning  YCbCrSubSampling YResolution      ZoneMatching  \n",
      "90          Co-sited  YCbCr4:2:2 (2 1)         350  ISO Setting Used  \n",
      "91          Co-sited  YCbCr4:2:2 (2 1)         350  ISO Setting Used  \n",
      "92          Co-sited  YCbCr4:2:2 (2 1)         350  ISO Setting Used  \n",
      "93          Co-sited  YCbCr4:2:2 (2 1)         350  ISO Setting Used  \n",
      "94          Co-sited  YCbCr4:2:2 (2 1)         350  ISO Setting Used  \n",
      "\n",
      "[5 rows x 203 columns]\n"
     ]
    }
   ],
   "source": [
    "#head and tail to see the rows\n",
    "print(\"First 5 rows is \", df.head())\n",
    "print(\"Last 5 rows is \", df.tail())"
   ]
  },
  {
   "cell_type": "code",
   "execution_count": 10,
   "id": "42f8d519",
   "metadata": {},
   "outputs": [
    {
     "name": "stdout",
     "output_type": "stream",
     "text": [
      "<class 'pandas.core.frame.DataFrame'>\n",
      "RangeIndex: 95 entries, 0 to 94\n",
      "Columns: 203 entries, SourceFile to ZoneMatching\n",
      "dtypes: float64(18), int64(46), object(139)\n",
      "memory usage: 150.8+ KB\n",
      "----------------\n",
      "\n",
      "\n",
      " None\n"
     ]
    }
   ],
   "source": [
    "#info \n",
    "print(\"----------------\\n\\n\\n\",df.info()) "
   ]
  },
  {
   "cell_type": "code",
   "execution_count": 11,
   "id": "cf3d525c",
   "metadata": {},
   "outputs": [
    {
     "name": "stdout",
     "output_type": "stream",
     "text": [
      "###############\n"
     ]
    },
    {
     "data": {
      "text/html": [
       "<div>\n",
       "<style scoped>\n",
       "    .dataframe tbody tr th:only-of-type {\n",
       "        vertical-align: middle;\n",
       "    }\n",
       "\n",
       "    .dataframe tbody tr th {\n",
       "        vertical-align: top;\n",
       "    }\n",
       "\n",
       "    .dataframe thead th {\n",
       "        text-align: right;\n",
       "    }\n",
       "</style>\n",
       "<table border=\"1\" class=\"dataframe\">\n",
       "  <thead>\n",
       "    <tr style=\"text-align: right;\">\n",
       "      <th></th>\n",
       "      <th>AFPointSelected</th>\n",
       "      <th>Aperture</th>\n",
       "      <th>BaseISO</th>\n",
       "      <th>BitsPerSample</th>\n",
       "      <th>BlueBalance</th>\n",
       "      <th>Brightness</th>\n",
       "      <th>BrightnessValue</th>\n",
       "      <th>CameraE-mountVersion</th>\n",
       "      <th>ColorCompensationFilter</th>\n",
       "      <th>ColorComponents</th>\n",
       "      <th>...</th>\n",
       "      <th>SonyImageWidthMax</th>\n",
       "      <th>SonyISO</th>\n",
       "      <th>SonyMaxApertureValue</th>\n",
       "      <th>StopsAboveBaseISO</th>\n",
       "      <th>ThumbnailLength</th>\n",
       "      <th>ThumbnailOffset</th>\n",
       "      <th>UserComment</th>\n",
       "      <th>WhiteBalanceFineTune</th>\n",
       "      <th>XResolution</th>\n",
       "      <th>YResolution</th>\n",
       "    </tr>\n",
       "  </thead>\n",
       "  <tbody>\n",
       "    <tr>\n",
       "      <th>AFPointSelected</th>\n",
       "      <td>NaN</td>\n",
       "      <td>NaN</td>\n",
       "      <td>NaN</td>\n",
       "      <td>NaN</td>\n",
       "      <td>NaN</td>\n",
       "      <td>NaN</td>\n",
       "      <td>NaN</td>\n",
       "      <td>NaN</td>\n",
       "      <td>NaN</td>\n",
       "      <td>NaN</td>\n",
       "      <td>...</td>\n",
       "      <td>NaN</td>\n",
       "      <td>NaN</td>\n",
       "      <td>NaN</td>\n",
       "      <td>NaN</td>\n",
       "      <td>NaN</td>\n",
       "      <td>NaN</td>\n",
       "      <td>NaN</td>\n",
       "      <td>NaN</td>\n",
       "      <td>NaN</td>\n",
       "      <td>NaN</td>\n",
       "    </tr>\n",
       "    <tr>\n",
       "      <th>Aperture</th>\n",
       "      <td>NaN</td>\n",
       "      <td>1.000000</td>\n",
       "      <td>NaN</td>\n",
       "      <td>NaN</td>\n",
       "      <td>0.324377</td>\n",
       "      <td>NaN</td>\n",
       "      <td>0.024620</td>\n",
       "      <td>NaN</td>\n",
       "      <td>NaN</td>\n",
       "      <td>NaN</td>\n",
       "      <td>...</td>\n",
       "      <td>NaN</td>\n",
       "      <td>0.223952</td>\n",
       "      <td>0.957883</td>\n",
       "      <td>0.083343</td>\n",
       "      <td>-0.135590</td>\n",
       "      <td>NaN</td>\n",
       "      <td>NaN</td>\n",
       "      <td>NaN</td>\n",
       "      <td>NaN</td>\n",
       "      <td>NaN</td>\n",
       "    </tr>\n",
       "    <tr>\n",
       "      <th>BaseISO</th>\n",
       "      <td>NaN</td>\n",
       "      <td>NaN</td>\n",
       "      <td>NaN</td>\n",
       "      <td>NaN</td>\n",
       "      <td>NaN</td>\n",
       "      <td>NaN</td>\n",
       "      <td>NaN</td>\n",
       "      <td>NaN</td>\n",
       "      <td>NaN</td>\n",
       "      <td>NaN</td>\n",
       "      <td>...</td>\n",
       "      <td>NaN</td>\n",
       "      <td>NaN</td>\n",
       "      <td>NaN</td>\n",
       "      <td>NaN</td>\n",
       "      <td>NaN</td>\n",
       "      <td>NaN</td>\n",
       "      <td>NaN</td>\n",
       "      <td>NaN</td>\n",
       "      <td>NaN</td>\n",
       "      <td>NaN</td>\n",
       "    </tr>\n",
       "    <tr>\n",
       "      <th>BitsPerSample</th>\n",
       "      <td>NaN</td>\n",
       "      <td>NaN</td>\n",
       "      <td>NaN</td>\n",
       "      <td>NaN</td>\n",
       "      <td>NaN</td>\n",
       "      <td>NaN</td>\n",
       "      <td>NaN</td>\n",
       "      <td>NaN</td>\n",
       "      <td>NaN</td>\n",
       "      <td>NaN</td>\n",
       "      <td>...</td>\n",
       "      <td>NaN</td>\n",
       "      <td>NaN</td>\n",
       "      <td>NaN</td>\n",
       "      <td>NaN</td>\n",
       "      <td>NaN</td>\n",
       "      <td>NaN</td>\n",
       "      <td>NaN</td>\n",
       "      <td>NaN</td>\n",
       "      <td>NaN</td>\n",
       "      <td>NaN</td>\n",
       "    </tr>\n",
       "    <tr>\n",
       "      <th>BlueBalance</th>\n",
       "      <td>NaN</td>\n",
       "      <td>0.324377</td>\n",
       "      <td>NaN</td>\n",
       "      <td>NaN</td>\n",
       "      <td>1.000000</td>\n",
       "      <td>NaN</td>\n",
       "      <td>-0.367739</td>\n",
       "      <td>NaN</td>\n",
       "      <td>NaN</td>\n",
       "      <td>NaN</td>\n",
       "      <td>...</td>\n",
       "      <td>NaN</td>\n",
       "      <td>0.298889</td>\n",
       "      <td>0.302652</td>\n",
       "      <td>0.266089</td>\n",
       "      <td>-0.190951</td>\n",
       "      <td>NaN</td>\n",
       "      <td>NaN</td>\n",
       "      <td>NaN</td>\n",
       "      <td>NaN</td>\n",
       "      <td>NaN</td>\n",
       "    </tr>\n",
       "    <tr>\n",
       "      <th>...</th>\n",
       "      <td>...</td>\n",
       "      <td>...</td>\n",
       "      <td>...</td>\n",
       "      <td>...</td>\n",
       "      <td>...</td>\n",
       "      <td>...</td>\n",
       "      <td>...</td>\n",
       "      <td>...</td>\n",
       "      <td>...</td>\n",
       "      <td>...</td>\n",
       "      <td>...</td>\n",
       "      <td>...</td>\n",
       "      <td>...</td>\n",
       "      <td>...</td>\n",
       "      <td>...</td>\n",
       "      <td>...</td>\n",
       "      <td>...</td>\n",
       "      <td>...</td>\n",
       "      <td>...</td>\n",
       "      <td>...</td>\n",
       "      <td>...</td>\n",
       "    </tr>\n",
       "    <tr>\n",
       "      <th>ThumbnailOffset</th>\n",
       "      <td>NaN</td>\n",
       "      <td>NaN</td>\n",
       "      <td>NaN</td>\n",
       "      <td>NaN</td>\n",
       "      <td>NaN</td>\n",
       "      <td>NaN</td>\n",
       "      <td>NaN</td>\n",
       "      <td>NaN</td>\n",
       "      <td>NaN</td>\n",
       "      <td>NaN</td>\n",
       "      <td>...</td>\n",
       "      <td>NaN</td>\n",
       "      <td>NaN</td>\n",
       "      <td>NaN</td>\n",
       "      <td>NaN</td>\n",
       "      <td>NaN</td>\n",
       "      <td>NaN</td>\n",
       "      <td>NaN</td>\n",
       "      <td>NaN</td>\n",
       "      <td>NaN</td>\n",
       "      <td>NaN</td>\n",
       "    </tr>\n",
       "    <tr>\n",
       "      <th>UserComment</th>\n",
       "      <td>NaN</td>\n",
       "      <td>NaN</td>\n",
       "      <td>NaN</td>\n",
       "      <td>NaN</td>\n",
       "      <td>NaN</td>\n",
       "      <td>NaN</td>\n",
       "      <td>NaN</td>\n",
       "      <td>NaN</td>\n",
       "      <td>NaN</td>\n",
       "      <td>NaN</td>\n",
       "      <td>...</td>\n",
       "      <td>NaN</td>\n",
       "      <td>NaN</td>\n",
       "      <td>NaN</td>\n",
       "      <td>NaN</td>\n",
       "      <td>NaN</td>\n",
       "      <td>NaN</td>\n",
       "      <td>NaN</td>\n",
       "      <td>NaN</td>\n",
       "      <td>NaN</td>\n",
       "      <td>NaN</td>\n",
       "    </tr>\n",
       "    <tr>\n",
       "      <th>WhiteBalanceFineTune</th>\n",
       "      <td>NaN</td>\n",
       "      <td>NaN</td>\n",
       "      <td>NaN</td>\n",
       "      <td>NaN</td>\n",
       "      <td>NaN</td>\n",
       "      <td>NaN</td>\n",
       "      <td>NaN</td>\n",
       "      <td>NaN</td>\n",
       "      <td>NaN</td>\n",
       "      <td>NaN</td>\n",
       "      <td>...</td>\n",
       "      <td>NaN</td>\n",
       "      <td>NaN</td>\n",
       "      <td>NaN</td>\n",
       "      <td>NaN</td>\n",
       "      <td>NaN</td>\n",
       "      <td>NaN</td>\n",
       "      <td>NaN</td>\n",
       "      <td>NaN</td>\n",
       "      <td>NaN</td>\n",
       "      <td>NaN</td>\n",
       "    </tr>\n",
       "    <tr>\n",
       "      <th>XResolution</th>\n",
       "      <td>NaN</td>\n",
       "      <td>NaN</td>\n",
       "      <td>NaN</td>\n",
       "      <td>NaN</td>\n",
       "      <td>NaN</td>\n",
       "      <td>NaN</td>\n",
       "      <td>NaN</td>\n",
       "      <td>NaN</td>\n",
       "      <td>NaN</td>\n",
       "      <td>NaN</td>\n",
       "      <td>...</td>\n",
       "      <td>NaN</td>\n",
       "      <td>NaN</td>\n",
       "      <td>NaN</td>\n",
       "      <td>NaN</td>\n",
       "      <td>NaN</td>\n",
       "      <td>NaN</td>\n",
       "      <td>NaN</td>\n",
       "      <td>NaN</td>\n",
       "      <td>NaN</td>\n",
       "      <td>NaN</td>\n",
       "    </tr>\n",
       "    <tr>\n",
       "      <th>YResolution</th>\n",
       "      <td>NaN</td>\n",
       "      <td>NaN</td>\n",
       "      <td>NaN</td>\n",
       "      <td>NaN</td>\n",
       "      <td>NaN</td>\n",
       "      <td>NaN</td>\n",
       "      <td>NaN</td>\n",
       "      <td>NaN</td>\n",
       "      <td>NaN</td>\n",
       "      <td>NaN</td>\n",
       "      <td>...</td>\n",
       "      <td>NaN</td>\n",
       "      <td>NaN</td>\n",
       "      <td>NaN</td>\n",
       "      <td>NaN</td>\n",
       "      <td>NaN</td>\n",
       "      <td>NaN</td>\n",
       "      <td>NaN</td>\n",
       "      <td>NaN</td>\n",
       "      <td>NaN</td>\n",
       "      <td>NaN</td>\n",
       "    </tr>\n",
       "  </tbody>\n",
       "</table>\n",
       "<p>64 rows × 64 columns</p>\n",
       "</div>"
      ],
      "text/plain": [
       "                      AFPointSelected  Aperture  BaseISO  BitsPerSample  \\\n",
       "AFPointSelected                   NaN       NaN      NaN            NaN   \n",
       "Aperture                          NaN  1.000000      NaN            NaN   \n",
       "BaseISO                           NaN       NaN      NaN            NaN   \n",
       "BitsPerSample                     NaN       NaN      NaN            NaN   \n",
       "BlueBalance                       NaN  0.324377      NaN            NaN   \n",
       "...                               ...       ...      ...            ...   \n",
       "ThumbnailOffset                   NaN       NaN      NaN            NaN   \n",
       "UserComment                       NaN       NaN      NaN            NaN   \n",
       "WhiteBalanceFineTune              NaN       NaN      NaN            NaN   \n",
       "XResolution                       NaN       NaN      NaN            NaN   \n",
       "YResolution                       NaN       NaN      NaN            NaN   \n",
       "\n",
       "                      BlueBalance  Brightness  BrightnessValue  \\\n",
       "AFPointSelected               NaN         NaN              NaN   \n",
       "Aperture                 0.324377         NaN         0.024620   \n",
       "BaseISO                       NaN         NaN              NaN   \n",
       "BitsPerSample                 NaN         NaN              NaN   \n",
       "BlueBalance              1.000000         NaN        -0.367739   \n",
       "...                           ...         ...              ...   \n",
       "ThumbnailOffset               NaN         NaN              NaN   \n",
       "UserComment                   NaN         NaN              NaN   \n",
       "WhiteBalanceFineTune          NaN         NaN              NaN   \n",
       "XResolution                   NaN         NaN              NaN   \n",
       "YResolution                   NaN         NaN              NaN   \n",
       "\n",
       "                      CameraE-mountVersion  ColorCompensationFilter  \\\n",
       "AFPointSelected                        NaN                      NaN   \n",
       "Aperture                               NaN                      NaN   \n",
       "BaseISO                                NaN                      NaN   \n",
       "BitsPerSample                          NaN                      NaN   \n",
       "BlueBalance                            NaN                      NaN   \n",
       "...                                    ...                      ...   \n",
       "ThumbnailOffset                        NaN                      NaN   \n",
       "UserComment                            NaN                      NaN   \n",
       "WhiteBalanceFineTune                   NaN                      NaN   \n",
       "XResolution                            NaN                      NaN   \n",
       "YResolution                            NaN                      NaN   \n",
       "\n",
       "                      ColorComponents  ...  SonyImageWidthMax   SonyISO  \\\n",
       "AFPointSelected                   NaN  ...                NaN       NaN   \n",
       "Aperture                          NaN  ...                NaN  0.223952   \n",
       "BaseISO                           NaN  ...                NaN       NaN   \n",
       "BitsPerSample                     NaN  ...                NaN       NaN   \n",
       "BlueBalance                       NaN  ...                NaN  0.298889   \n",
       "...                               ...  ...                ...       ...   \n",
       "ThumbnailOffset                   NaN  ...                NaN       NaN   \n",
       "UserComment                       NaN  ...                NaN       NaN   \n",
       "WhiteBalanceFineTune              NaN  ...                NaN       NaN   \n",
       "XResolution                       NaN  ...                NaN       NaN   \n",
       "YResolution                       NaN  ...                NaN       NaN   \n",
       "\n",
       "                      SonyMaxApertureValue  StopsAboveBaseISO  \\\n",
       "AFPointSelected                        NaN                NaN   \n",
       "Aperture                          0.957883           0.083343   \n",
       "BaseISO                                NaN                NaN   \n",
       "BitsPerSample                          NaN                NaN   \n",
       "BlueBalance                       0.302652           0.266089   \n",
       "...                                    ...                ...   \n",
       "ThumbnailOffset                        NaN                NaN   \n",
       "UserComment                            NaN                NaN   \n",
       "WhiteBalanceFineTune                   NaN                NaN   \n",
       "XResolution                            NaN                NaN   \n",
       "YResolution                            NaN                NaN   \n",
       "\n",
       "                      ThumbnailLength  ThumbnailOffset  UserComment  \\\n",
       "AFPointSelected                   NaN              NaN          NaN   \n",
       "Aperture                    -0.135590              NaN          NaN   \n",
       "BaseISO                           NaN              NaN          NaN   \n",
       "BitsPerSample                     NaN              NaN          NaN   \n",
       "BlueBalance                 -0.190951              NaN          NaN   \n",
       "...                               ...              ...          ...   \n",
       "ThumbnailOffset                   NaN              NaN          NaN   \n",
       "UserComment                       NaN              NaN          NaN   \n",
       "WhiteBalanceFineTune              NaN              NaN          NaN   \n",
       "XResolution                       NaN              NaN          NaN   \n",
       "YResolution                       NaN              NaN          NaN   \n",
       "\n",
       "                      WhiteBalanceFineTune  XResolution  YResolution  \n",
       "AFPointSelected                        NaN          NaN          NaN  \n",
       "Aperture                               NaN          NaN          NaN  \n",
       "BaseISO                                NaN          NaN          NaN  \n",
       "BitsPerSample                          NaN          NaN          NaN  \n",
       "BlueBalance                            NaN          NaN          NaN  \n",
       "...                                    ...          ...          ...  \n",
       "ThumbnailOffset                        NaN          NaN          NaN  \n",
       "UserComment                            NaN          NaN          NaN  \n",
       "WhiteBalanceFineTune                   NaN          NaN          NaN  \n",
       "XResolution                            NaN          NaN          NaN  \n",
       "YResolution                            NaN          NaN          NaN  \n",
       "\n",
       "[64 rows x 64 columns]"
      ]
     },
     "execution_count": 11,
     "metadata": {},
     "output_type": "execute_result"
    }
   ],
   "source": [
    "\n",
    "print(\"###############\")\n",
    "#finding corr\n",
    "df.corr()"
   ]
  },
  {
   "cell_type": "code",
   "execution_count": 13,
   "id": "c89bb88a",
   "metadata": {},
   "outputs": [
    {
     "name": "stdout",
     "output_type": "stream",
     "text": [
      "0     False\n",
      "1     False\n",
      "2     False\n",
      "3     False\n",
      "4     False\n",
      "      ...  \n",
      "90    False\n",
      "91    False\n",
      "92    False\n",
      "93    False\n",
      "94    False\n",
      "Length: 95, dtype: bool\n"
     ]
    }
   ],
   "source": [
    "# continue off here https://www.w3schools.com/python/pandas/pandas_plotting.asp\n",
    "#cleaning data?\n",
    "#data looks clean enough \n",
    "print(df.duplicated())\n",
    "\n",
    "\n"
   ]
  },
  {
   "cell_type": "code",
   "execution_count": 20,
   "id": "db60012c",
   "metadata": {},
   "outputs": [
    {
     "data": {
      "image/png": "[encoded data removed]",
      "text/plain": [
       "<Figure size 432x288 with 1 Axes>"
      ]
     },
     "metadata": {
      "needs_background": "light"
     },
     "output_type": "display_data"
    },
    {
     "data": {
      "image/png": "[encoded data removed]",
      "text/plain": [
       "<Figure size 432x288 with 1 Axes>"
      ]
     },
     "metadata": {
      "needs_background": "light"
     },
     "output_type": "display_data"
    },
    {
     "data": {
      "image/png": "[encoded data removed]",
      "text/plain": [
       "<Figure size 432x288 with 1 Axes>"
      ]
     },
     "metadata": {
      "needs_background": "light"
     },
     "output_type": "display_data"
    },
    {
     "data": {
      "image/png": "[encoded data removed]",
      "text/plain": [
       "<Figure size 432x288 with 1 Axes>"
      ]
     },
     "metadata": {
      "needs_background": "light"
     },
     "output_type": "display_data"
    },
    {
     "data": {
      "image/png": "[encoded data removed]",
      "text/plain": [
       "<Figure size 432x288 with 1 Axes>"
      ]
     },
     "metadata": {
      "needs_background": "light"
     },
     "output_type": "display_data"
    },
    {
     "data": {
      "image/png": "[encoded data removed]",
      "text/plain": [
       "<Figure size 432x288 with 1 Axes>"
      ]
     },
     "metadata": {
      "needs_background": "light"
     },
     "output_type": "display_data"
    },
    {
     "data": {
      "image/png": "[encoded data removed]",
      "text/plain": [
       "<Figure size 432x288 with 1 Axes>"
      ]
     },
     "metadata": {
      "needs_background": "light"
     },
     "output_type": "display_data"
    },
    {
     "data": {
      "image/png": "[encoded data removed]",
      "text/plain": [
       "<Figure size 432x288 with 1 Axes>"
      ]
     },
     "metadata": {
      "needs_background": "light"
     },
     "output_type": "display_data"
    },
    {
     "data": {
      "image/png": "[encoded data removed]",
      "text/plain": [
       "<Figure size 432x288 with 1 Axes>"
      ]
     },
     "metadata": {
      "needs_background": "light"
     },
     "output_type": "display_data"
    }
   ],
   "source": [
    "#plotting my initial hypotheses whether there is any corr between aperture, shutter speed, iso and focal\n",
    "import matplotlib.pyplot as plt\n",
    "\n",
    "\n",
    "df.plot(kind = 'scatter', x = 'Aperture', y = 'ShutterSpeed')\n",
    "df.plot(kind = 'scatter', x = 'Aperture', y = 'FocalLength')\n",
    "df.plot(kind = 'scatter', x = 'Aperture', y = 'ISO')\n",
    "df.plot(kind = 'scatter', x = 'ShutterSpeed', y = 'FocalLength')\n",
    "df.plot(kind = 'scatter', x = 'ShutterSpeed', y = 'ISO')\n",
    "df.plot(kind = 'scatter', x = 'FocalLength', y = 'ISO')\n",
    "df.plot(kind = 'scatter', x = 'FocalLength', y = 'ShutterSpeed')\n",
    "df.plot(kind = 'scatter', x = 'ISO', y = 'ShutterSpeed')\n",
    "df.plot(kind = 'scatter', x = 'ISO', y = 'FocalLength')\n",
    "plt.show()\n",
    "\n",
    "#seems like there are not correlations"
   ]
  },
  {
   "cell_type": "code",
   "execution_count": 21,
   "id": "63b815c8",
   "metadata": {},
   "outputs": [
    {
     "data": {
      "text/plain": [
       "<AxesSubplot:xlabel='BlueBalance', ylabel='BrightnessValue'>"
      ]
     },
     "execution_count": 21,
     "metadata": {},
     "output_type": "execute_result"
    },
    {
     "data": {
      "image/png": "[encoded data removed]",
      "text/plain": [
       "<Figure size 432x288 with 1 Axes>"
      ]
     },
     "metadata": {
      "needs_background": "light"
     },
     "output_type": "display_data"
    },
    {
     "data": {
      "image/png": "[encoded data removed]",
      "text/plain": [
       "<Figure size 432x288 with 1 Axes>"
      ]
     },
     "metadata": {
      "needs_background": "light"
     },
     "output_type": "display_data"
    }
   ],
   "source": [
    "#plotting base on .corr\n",
    "# high corr values \n",
    "# Aperture SonyMaxApertureValue 0.957883\n",
    "# BlueBalance BrightnessValue -0.367739\t\n",
    "df.plot(kind = 'scatter', x = 'Aperture', y = 'SonyMaxApertureValue')\n",
    "df.plot(kind = 'scatter', x = 'BlueBalance', y = 'BrightnessValue')\n",
    "\n"
   ]
  },
  {
   "cell_type": "code",
   "execution_count": 24,
   "id": "2fd300c1",
   "metadata": {},
   "outputs": [
    {
     "ename": "TypeError",
     "evalue": "no numeric data to plot",
     "output_type": "error",
     "traceback": [
      "\u001b[1;31m---------------------------------------------------------------------------\u001b[0m",
      "\u001b[1;31mTypeError\u001b[0m                                 Traceback (most recent call last)",
      "Input \u001b[1;32mIn [24]\u001b[0m, in \u001b[0;36m<cell line: 5>\u001b[1;34m()\u001b[0m\n\u001b[0;32m      3\u001b[0m df[\u001b[38;5;124m\"\u001b[39m\u001b[38;5;124mISO\u001b[39m\u001b[38;5;124m\"\u001b[39m]\u001b[38;5;241m.\u001b[39mplot(kind \u001b[38;5;241m=\u001b[39m \u001b[38;5;124m'\u001b[39m\u001b[38;5;124mhist\u001b[39m\u001b[38;5;124m'\u001b[39m)\n\u001b[0;32m      4\u001b[0m df[\u001b[38;5;124m\"\u001b[39m\u001b[38;5;124mAperture\u001b[39m\u001b[38;5;124m\"\u001b[39m]\u001b[38;5;241m.\u001b[39mplot(kind \u001b[38;5;241m=\u001b[39m \u001b[38;5;124m'\u001b[39m\u001b[38;5;124mhist\u001b[39m\u001b[38;5;124m'\u001b[39m)\n\u001b[1;32m----> 5\u001b[0m \u001b[43mdf\u001b[49m\u001b[43m[\u001b[49m\u001b[38;5;124;43m\"\u001b[39;49m\u001b[38;5;124;43mShutterSpeed\u001b[39;49m\u001b[38;5;124;43m\"\u001b[39;49m\u001b[43m]\u001b[49m\u001b[38;5;241;43m.\u001b[39;49m\u001b[43mplot\u001b[49m\u001b[43m(\u001b[49m\u001b[43mkind\u001b[49m\u001b[43m \u001b[49m\u001b[38;5;241;43m=\u001b[39;49m\u001b[43m \u001b[49m\u001b[38;5;124;43m'\u001b[39;49m\u001b[38;5;124;43mhist\u001b[39;49m\u001b[38;5;124;43m'\u001b[39;49m\u001b[43m)\u001b[49m\n",
      "File \u001b[1;32m~\\anaconda3\\lib\\site-packages\\pandas\\plotting\\_core.py:972\u001b[0m, in \u001b[0;36mPlotAccessor.__call__\u001b[1;34m(self, *args, **kwargs)\u001b[0m\n\u001b[0;32m    969\u001b[0m             label_name \u001b[38;5;241m=\u001b[39m label_kw \u001b[38;5;129;01mor\u001b[39;00m data\u001b[38;5;241m.\u001b[39mcolumns\n\u001b[0;32m    970\u001b[0m             data\u001b[38;5;241m.\u001b[39mcolumns \u001b[38;5;241m=\u001b[39m label_name\n\u001b[1;32m--> 972\u001b[0m \u001b[38;5;28;01mreturn\u001b[39;00m plot_backend\u001b[38;5;241m.\u001b[39mplot(data, kind\u001b[38;5;241m=\u001b[39mkind, \u001b[38;5;241m*\u001b[39m\u001b[38;5;241m*\u001b[39mkwargs)\n",
      "File \u001b[1;32m~\\anaconda3\\lib\\site-packages\\pandas\\plotting\\_matplotlib\\__init__.py:71\u001b[0m, in \u001b[0;36mplot\u001b[1;34m(data, kind, **kwargs)\u001b[0m\n\u001b[0;32m     69\u001b[0m         kwargs[\u001b[38;5;124m\"\u001b[39m\u001b[38;5;124max\u001b[39m\u001b[38;5;124m\"\u001b[39m] \u001b[38;5;241m=\u001b[39m \u001b[38;5;28mgetattr\u001b[39m(ax, \u001b[38;5;124m\"\u001b[39m\u001b[38;5;124mleft_ax\u001b[39m\u001b[38;5;124m\"\u001b[39m, ax)\n\u001b[0;32m     70\u001b[0m plot_obj \u001b[38;5;241m=\u001b[39m PLOT_CLASSES[kind](data, \u001b[38;5;241m*\u001b[39m\u001b[38;5;241m*\u001b[39mkwargs)\n\u001b[1;32m---> 71\u001b[0m \u001b[43mplot_obj\u001b[49m\u001b[38;5;241;43m.\u001b[39;49m\u001b[43mgenerate\u001b[49m\u001b[43m(\u001b[49m\u001b[43m)\u001b[49m\n\u001b[0;32m     72\u001b[0m plot_obj\u001b[38;5;241m.\u001b[39mdraw()\n\u001b[0;32m     73\u001b[0m \u001b[38;5;28;01mreturn\u001b[39;00m plot_obj\u001b[38;5;241m.\u001b[39mresult\n",
      "File \u001b[1;32m~\\anaconda3\\lib\\site-packages\\pandas\\plotting\\_matplotlib\\core.py:327\u001b[0m, in \u001b[0;36mMPLPlot.generate\u001b[1;34m(self)\u001b[0m\n\u001b[0;32m    325\u001b[0m \u001b[38;5;28;01mdef\u001b[39;00m \u001b[38;5;21mgenerate\u001b[39m(\u001b[38;5;28mself\u001b[39m):\n\u001b[0;32m    326\u001b[0m     \u001b[38;5;28mself\u001b[39m\u001b[38;5;241m.\u001b[39m_args_adjust()\n\u001b[1;32m--> 327\u001b[0m     \u001b[38;5;28;43mself\u001b[39;49m\u001b[38;5;241;43m.\u001b[39;49m\u001b[43m_compute_plot_data\u001b[49m\u001b[43m(\u001b[49m\u001b[43m)\u001b[49m\n\u001b[0;32m    328\u001b[0m     \u001b[38;5;28mself\u001b[39m\u001b[38;5;241m.\u001b[39m_setup_subplots()\n\u001b[0;32m    329\u001b[0m     \u001b[38;5;28mself\u001b[39m\u001b[38;5;241m.\u001b[39m_make_plot()\n",
      "File \u001b[1;32m~\\anaconda3\\lib\\site-packages\\pandas\\plotting\\_matplotlib\\core.py:506\u001b[0m, in \u001b[0;36mMPLPlot._compute_plot_data\u001b[1;34m(self)\u001b[0m\n\u001b[0;32m    504\u001b[0m \u001b[38;5;66;03m# no non-numeric frames or series allowed\u001b[39;00m\n\u001b[0;32m    505\u001b[0m \u001b[38;5;28;01mif\u001b[39;00m is_empty:\n\u001b[1;32m--> 506\u001b[0m     \u001b[38;5;28;01mraise\u001b[39;00m \u001b[38;5;167;01mTypeError\u001b[39;00m(\u001b[38;5;124m\"\u001b[39m\u001b[38;5;124mno numeric data to plot\u001b[39m\u001b[38;5;124m\"\u001b[39m)\n\u001b[0;32m    508\u001b[0m \u001b[38;5;28mself\u001b[39m\u001b[38;5;241m.\u001b[39mdata \u001b[38;5;241m=\u001b[39m numeric_data\u001b[38;5;241m.\u001b[39mapply(\u001b[38;5;28mself\u001b[39m\u001b[38;5;241m.\u001b[39m_convert_to_ndarray)\n",
      "\u001b[1;31mTypeError\u001b[0m: no numeric data to plot"
     ]
    },
    {
     "data": {
      "image/png": "[encoded data removed]",
      "text/plain": [
       "<Figure size 432x288 with 1 Axes>"
      ]
     },
     "metadata": {
      "needs_background": "light"
     },
     "output_type": "display_data"
    }
   ],
   "source": [
    "# what do iso do i like to set?\n",
    "\n",
    "df[\"ISO\"].plot(kind = 'hist')\n",
    "df[\"Aperture\"].plot(kind = 'hist')\n",
    "df[\"ShutterSpeed\"].plot(kind = 'hist') # shutter speed to float (https://datatofish.com/convert-string-to-float-dataframe/)\n",
    "\n"
   ]
  },
  {
   "cell_type": "code",
   "execution_count": null,
   "id": "f26e6b38",
   "metadata": {},
   "outputs": [],
   "source": []
  }
 ],
 "metadata": {
  "kernelspec": {
   "display_name": "Python 3 (ipykernel)",
   "language": "python",
   "name": "python3"
  },
  "language_info": {
   "codemirror_mode": {
    "name": "ipython",
    "version": 3
   },
   "file_extension": ".py",
   "mimetype": "text/x-python",
   "name": "python",
   "nbconvert_exporter": "python",
   "pygments_lexer": "ipython3",
   "version": "3.9.12"
  },
  "vscode": {
   "interpreter": {
    "hash": "618942f78f3b475cd8c490ee50ba54cbf202f68336b3000bf431b63eb70980ac"
   }
  }
 },
 "nbformat": 4,
 "nbformat_minor": 5
}
