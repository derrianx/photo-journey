{
 "cells": [
  {
   "cell_type": "code",
   "execution_count": 5,
   "id": "974cef32",
   "metadata": {},
   "outputs": [],
   "source": [
    "import pandas as pd\n",
    "import numpy as np"
   ]
  },
  {
   "cell_type": "code",
   "execution_count": 6,
   "id": "7c780b25",
   "metadata": {},
   "outputs": [],
   "source": [
    "df = pd.read_csv('no_data.csv')\n"
   ]
  },
  {
   "cell_type": "code",
   "execution_count": 13,
   "id": "9992f0af",
   "metadata": {},
   "outputs": [
    {
     "name": "stdout",
     "output_type": "stream",
     "text": [
      "\n",
      "DataFrame Shape : (198, 3)\n",
      "\n",
      "Number of rows : 198\n",
      "\n",
      "Number of columns : 3\n",
      "First 5 rows is               Filename                     Tag                            Value\n",
      "0  image/DSC00663.jpg  Image ImageDescription                                 \n",
      "1  image/DSC00663.jpg              Image Make                             SONY\n",
      "2  image/DSC00663.jpg             Image Model                        ILCE-5000\n",
      "3  image/DSC00663.jpg       Image Orientation              Horizontal (normal)\n",
      "4  image/DSC00663.jpg       Image XResolution                              350\n",
      "Last 5 rows is                 Filename                     Tag  \\\n",
      "193  image/DSC00665.jpg         EXIF Saturation   \n",
      "194  image/DSC00665.jpg          EXIF Sharpness   \n",
      "195  image/DSC00665.jpg  EXIF LensSpecification   \n",
      "196  image/DSC00665.jpg          EXIF LensModel   \n",
      "197  image/DSC00665.jpg           JPEGThumbnail   \n",
      "\n",
      "                                                 Value  \n",
      "193                                             Normal  \n",
      "194                                             Normal  \n",
      "195                                [16, 50, 7/2, 28/5]  \n",
      "196                          E PZ 16-50mm F3.5-5.6 OSS  \n",
      "197  b'\\xff\\xd8\\xff\\xdb\\x00\\x84\\x00\\x02\\x02\\x02\\x02...  \n",
      "<class 'pandas.core.frame.DataFrame'>\n",
      "RangeIndex: 198 entries, 0 to 197\n",
      "Data columns (total 3 columns):\n",
      " #   Column    Non-Null Count  Dtype \n",
      "---  ------    --------------  ----- \n",
      " 0   Filename  198 non-null    object\n",
      " 1   Tag       198 non-null    object\n",
      " 2   Value     195 non-null    object\n",
      "dtypes: object(3)\n",
      "memory usage: 4.8+ KB\n",
      "----------------\n",
      "\n",
      "\n",
      " None\n"
     ]
    }
   ],
   "source": [
    "#get dataframe shape\n",
    "shape = df.shape\n",
    "print('\\nDataFrame Shape :', shape)\n",
    "print('\\nNumber of rows :', shape[0])\n",
    "print('\\nNumber of columns :', shape[1])\n",
    "#head and tail to see the rows\n",
    "print(\"First 5 rows is \", df.head())\n",
    "print(\"Last 5 rows is \", df.tail())\n",
    "#info \n",
    "print(\"----------------\\n\\n\\n\",df.info()) \n"
   ]
  },
  {
   "cell_type": "code",
   "execution_count": null,
   "id": "4bb72aa5",
   "metadata": {},
   "outputs": [],
   "source": []
  }
 ],
 "metadata": {
  "kernelspec": {
   "display_name": "Python 3 (ipykernel)",
   "language": "python",
   "name": "python3"
  },
  "language_info": {
   "codemirror_mode": {
    "name": "ipython",
    "version": 3
   },
   "file_extension": ".py",
   "mimetype": "text/x-python",
   "name": "python",
   "nbconvert_exporter": "python",
   "pygments_lexer": "ipython3",
   "version": "3.9.12"
  }
 },
 "nbformat": 4,
 "nbformat_minor": 5
}
